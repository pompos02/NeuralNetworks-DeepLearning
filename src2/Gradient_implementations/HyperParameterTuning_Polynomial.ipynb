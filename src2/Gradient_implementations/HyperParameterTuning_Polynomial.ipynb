{
 "cells": [
  {
   "cell_type": "markdown",
   "metadata": {},
   "source": [
    "# ΓΙΑΝΝΗΣ ΚΑΡΑΒΕΛΛΑΣ\n",
    "# 4228"
   ]
  },
  {
   "cell_type": "code",
   "execution_count": 1,
   "metadata": {},
   "outputs": [],
   "source": [
    "import numpy as np\n",
    "import cupy as cp\n",
    "from sklearn.metrics import classification_report\n",
    "import matplotlib.pyplot as plt\n",
    "from tensorflow.keras.datasets import cifar10\n",
    "from sklearn.model_selection import train_test_split\n",
    "from tqdm import tqdm\n",
    "import random\n",
    "import pandas as pd"
   ]
  },
  {
   "cell_type": "markdown",
   "metadata": {},
   "source": [
    "Loading the data"
   ]
  },
  {
   "cell_type": "code",
   "execution_count": 2,
   "metadata": {},
   "outputs": [],
   "source": [
    "cp.random.seed(42)  \n",
    "np.random.seed(42)\n",
    "random.seed(42)\n",
    "# Load the dataset\n",
    "(x_train_full, y_train_full), (x_test_full, y_test_full) = cifar10.load_data()\n",
    "\n",
    "# Flatten label arrays\n",
    "y_train_full = y_train_full.flatten()\n",
    "y_test_full = y_test_full.flatten()\n"
   ]
  },
  {
   "cell_type": "markdown",
   "metadata": {},
   "source": [
    "Extracting only 'cat' and 'dog' lables"
   ]
  },
  {
   "cell_type": "code",
   "execution_count": 3,
   "metadata": {},
   "outputs": [],
   "source": [
    "# Define the classes\n",
    "class_map = {5: 'dog', 3: 'cat'}\n",
    "\n",
    "# Filter training data\n",
    "train_filter = np.isin(y_train_full, list(class_map.keys()))\n",
    "x_train = x_train_full[train_filter]\n",
    "y_train = y_train_full[train_filter]\n",
    "\n",
    "# Filter test data\n",
    "test_filter = np.isin(y_test_full, list(class_map.keys()))\n",
    "x_test = x_test_full[test_filter]\n",
    "y_test = y_test_full[test_filter]\n",
    "\n",
    "# Map labels to +1 and -1\n",
    "label_map = {5: 1, 3: -1}\n",
    "y_train = np.vectorize(label_map.get)(y_train)\n",
    "y_test = np.vectorize(label_map.get)(y_test)\n",
    "\n",
    "# Flatten the images\n",
    "x_train = x_train.reshape(x_train.shape[0], -1)\n",
    "x_test = x_test.reshape(x_test.shape[0], -1)\n",
    "\n",
    "# Normalize pixel values to [0, 1]\n",
    "x_train = x_train.astype(np.float32) / 255\n",
    "x_test = x_test.astype(np.float32) / 255\n",
    "\n",
    "x_train_mean = cp.mean(x_train, axis=0)\n",
    "x_train_std = cp.std(x_train, axis=0)\n",
    "x_train = (x_train - x_train_mean) / x_train_std\n",
    "x_test = (x_test - x_train_mean) / x_train_std\n",
    "\n",
    "\n"
   ]
  },
  {
   "cell_type": "markdown",
   "metadata": {},
   "source": [
    "converting to CuPy arrays"
   ]
  },
  {
   "cell_type": "code",
   "execution_count": 4,
   "metadata": {},
   "outputs": [],
   "source": [
    "\n",
    "x_train = cp.array(x_train)\n",
    "y_train = cp.array(y_train)\n",
    "x_test = cp.array(x_test)\n",
    "y_test = cp.array(y_test)\n",
    "\n",
    "# Shuffle the data randomly\n",
    "indices = cp.arange(x_train.shape[0])\n",
    "cp.random.shuffle(indices)\n",
    "\n",
    "# Apply shuffled indices to x_train and y_train\n",
    "x_train = x_train[indices]\n",
    "y_train = y_train[indices]\n",
    "\n",
    "\n"
   ]
  },
  {
   "cell_type": "markdown",
   "metadata": {},
   "source": [
    "# SVM functions"
   ]
  },
  {
   "cell_type": "code",
   "execution_count": 5,
   "metadata": {},
   "outputs": [],
   "source": [
    "def up_then_down_scheduler(epoch, total_epochs, ramp_up_epochs, min_lr, max_lr):\n",
    "    if epoch <= ramp_up_epochs:\n",
    "        # Linear ramp-up\n",
    "        lr = min_lr + (max_lr - min_lr) * (epoch / ramp_up_epochs)\n",
    "    else:\n",
    "        # Linear ramp-down\n",
    "        lr = max_lr - (max_lr - min_lr) * ((epoch - ramp_up_epochs) / (total_epochs - ramp_up_epochs))\n",
    "    return lr\n"
   ]
  },
  {
   "cell_type": "code",
   "execution_count": null,
   "metadata": {},
   "outputs": [],
   "source": [
    "\n",
    "# Polynomial Kernel Function\n",
    "def polynomial_kernel(X, Y, degree=3, coef0=1):\n",
    "    return (cp.dot(X, Y.T) + coef0) ** degree\n",
    "\n",
    "# Dual SVM Class with Gradient Descent\n",
    "class GradientSVM:\n",
    "    def __init__(self, C=1.0, epochs=100, degree=3, coef0=1):\n",
    "        self.kernel = polynomial_kernel\n",
    "        self.C = C\n",
    "        self.epochs = epochs\n",
    "        self.degree = degree\n",
    "        self.coef0 = coef0\n",
    "        self.alphas = None\n",
    "        self.b = 0\n",
    "        self.K = None\n",
    "        self.X = None\n",
    "        self.y = None\n",
    "        self.support_vectors = None\n",
    "        self.support_alphas = None\n",
    "        self.support_y = None\n",
    "\n",
    "    def fit(self, X, y, x_test, y_test, min_lr, max_lr, ramp_up_epochs):\n",
    "        train_accuracies = []\n",
    "        test_accuracies = []\n",
    "        lr_history = []\n",
    "        self.X = X\n",
    "        self.y = y\n",
    "        m, n = X.shape\n",
    "        self.alphas = cp.zeros(m)\n",
    "        self.b = 0\n",
    "        self.K = self.kernel(X, X, degree=self.degree, coef0=self.coef0)\n",
    "\n",
    "        for epoch in tqdm(range(self.epochs), desc='Training Epochs'):\n",
    "            lr = up_then_down_scheduler(epoch, self.epochs, ramp_up_epochs, min_lr, max_lr)\n",
    "            for i in range(m):\n",
    "                # Compute the decision function for xi\n",
    "                f_i = cp.sum(self.alphas * self.y * self.K[:, i]) + self.b\n",
    "                \n",
    "\n",
    "                # Compute gradient for alpha_i\n",
    "                gradient = 1 - self.y[i] * f_i\n",
    "\n",
    "                # Update rule\n",
    "                if (self.y[i] * f_i < 1):\n",
    "                    # Gradient for alpha_i\n",
    "                    grad_alpha_i = gradient  \n",
    "                    # Update alpha_i\n",
    "                    self.alphas[i] += lr * grad_alpha_i\n",
    "                    # Clip alpha_i to [0, C]\n",
    "                    self.alphas[i] = cp.clip(self.alphas[i], 0, self.C)\n",
    "                else:\n",
    "\n",
    "                    continue\n",
    "\n",
    "            # Update bias term b\n",
    "            # Identify support vectors (0 < alpha_i < C)\n",
    "            support_vector_indices = cp.where((self.alphas > 1e-5) & (self.alphas < self.C))[0]\n",
    "            if len(support_vector_indices) > 0:\n",
    "                # Compute the sum over all alpha_j * y_j * K(x_j, x_i) for each support vector i\n",
    "                # Reshape alphas * y for broadcasting\n",
    "                sum_alpha_y_K = cp.sum((self.alphas * self.y)[:, cp.newaxis] * self.K[:, support_vector_indices], axis=0)\n",
    "                \n",
    "                # Compute b as the mean of (y_i - sum_alpha_y_K) over support vectors\n",
    "                self.b = cp.mean(y[support_vector_indices] - sum_alpha_y_K)\n",
    "            else:\n",
    "                self.b = 0\n",
    "            y_pred_train = cp.sign(self.decision_function(X, use_support_vectors=False))\n",
    "            y_pred_test = cp.sign(self.decision_function(x_test, use_support_vectors=False))\n",
    "            # Convert predictions and labels to CPU (NumPy) arrays for evaluation\n",
    "            y_pred_train_cpu = cp.asnumpy(y_pred_train)\n",
    "            y_pred_test_cpu = cp.asnumpy(y_pred_test)\n",
    "            y_train_cpu = cp.asnumpy(y_train)\n",
    "            y_test_cpu = cp.asnumpy(y_test)\n",
    "            # Calculate accuracy\n",
    "            train_accuracy = np.mean(y_pred_train_cpu == y_train_cpu)\n",
    "            test_accuracy = np.mean(y_pred_test_cpu == y_test_cpu)\n",
    "            train_accuracies.append(train_accuracy)\n",
    "            test_accuracies.append(test_accuracy)\n",
    "            lr_history.append(lr)\n",
    "\n",
    "\n",
    "       \n",
    "\n",
    "        # Extract support vectors after training\n",
    "        self.support_vector_indices = cp.where(self.alphas > 1e-5)[0]\n",
    "        self.support_vectors = self.X[self.support_vector_indices]\n",
    "        self.support_alphas = self.alphas[self.support_vector_indices]\n",
    "        self.support_y = self.y[self.support_vector_indices]\n",
    "\n",
    "        return train_accuracies, test_accuracies, lr_history\n",
    "\n",
    "\n",
    "    def decision_function(self, X, use_support_vectors=False):\n",
    "        if use_support_vectors and self.support_vectors is not None:\n",
    "            # Compute the kernel between X and support vectors\n",
    "            K = self.kernel(X, self.support_vectors, degree=self.degree, coef0=self.coef0) \n",
    "            # Compute the decision function\n",
    "            return cp.dot(K, self.support_alphas * self.support_y) + self.b \n",
    "        else:\n",
    "            # Use all data (during training)\n",
    "            K = self.kernel(X, self.X, degree=self.degree, coef0=self.coef0)\n",
    "            return cp.dot(K, self.alphas * self.y) + self.b\n",
    "        \n",
    "\n",
    "    def predict(self, X):\n",
    "        decision_values = self.decision_function(X, use_support_vectors=True)\n",
    "        return cp.sign(decision_values)\n",
    "\n"
   ]
  },
  {
   "cell_type": "markdown",
   "metadata": {},
   "source": [
    "# Training section"
   ]
  },
  {
   "cell_type": "code",
   "execution_count": 7,
   "metadata": {},
   "outputs": [
    {
     "name": "stdout",
     "output_type": "stream",
     "text": [
      "Total hyperparameter combinations: 120\n"
     ]
    }
   ],
   "source": [
    "from itertools import product\n",
    "\n",
    "# Define the hyperparameter grid\n",
    "C_values = [1e-3, 1e-2, 1e-1, 1, 10, 100]\n",
    "degree_values = [2, 3, 4, 5]\n",
    "coef0_values = [0, 2.5, 5, 7.5, 10]\n",
    "\n",
    "# Create a list of all possible hyperparameter combinations\n",
    "hyperparameter_grid = list(product(C_values, degree_values, coef0_values))\n",
    "\n",
    "print(f\"Total hyperparameter combinations: {len(hyperparameter_grid)}\")"
   ]
  },
  {
   "cell_type": "code",
   "execution_count": 8,
   "metadata": {},
   "outputs": [
    {
     "name": "stderr",
     "output_type": "stream",
     "text": [
      "Grid Search:   0%|          | 0/120 [00:00<?, ?it/s]"
     ]
    },
    {
     "name": "stdout",
     "output_type": "stream",
     "text": [
      "\n",
      "Evaluating combination 1/120: C=0.001, Degree=2, coef0=0\n"
     ]
    },
    {
     "name": "stderr",
     "output_type": "stream",
     "text": [
      "Training Epochs: 100%|██████████| 30/30 [02:06<00:00,  4.21s/it]\n",
      "Grid Search:   1%|          | 1/120 [02:08<4:14:20, 128.24s/it]"
     ]
    },
    {
     "name": "stdout",
     "output_type": "stream",
     "text": [
      "test Accuracy: 51.40%\n",
      "train Accuracy: 52.21%\n",
      "\n",
      "Evaluating combination 2/120: C=0.001, Degree=2, coef0=2.5\n"
     ]
    },
    {
     "name": "stderr",
     "output_type": "stream",
     "text": [
      "Training Epochs: 100%|██████████| 30/30 [02:01<00:00,  4.06s/it]\n",
      "Grid Search:   2%|▏         | 2/120 [04:10<4:05:08, 124.64s/it]"
     ]
    },
    {
     "name": "stdout",
     "output_type": "stream",
     "text": [
      "test Accuracy: 62.80%\n",
      "train Accuracy: 73.25%\n",
      "\n",
      "Evaluating combination 3/120: C=0.001, Degree=2, coef0=5\n"
     ]
    },
    {
     "name": "stderr",
     "output_type": "stream",
     "text": [
      "Training Epochs: 100%|██████████| 30/30 [01:59<00:00,  3.98s/it]\n",
      "Grid Search:   2%|▎         | 3/120 [06:09<3:58:32, 122.33s/it]"
     ]
    },
    {
     "name": "stdout",
     "output_type": "stream",
     "text": [
      "test Accuracy: 63.70%\n",
      "train Accuracy: 73.80%\n",
      "\n",
      "Evaluating combination 4/120: C=0.001, Degree=2, coef0=7.5\n"
     ]
    },
    {
     "name": "stderr",
     "output_type": "stream",
     "text": [
      "Training Epochs: 100%|██████████| 30/30 [02:01<00:00,  4.06s/it]\n",
      "Grid Search:   3%|▎         | 4/120 [08:11<3:56:16, 122.21s/it]"
     ]
    },
    {
     "name": "stdout",
     "output_type": "stream",
     "text": [
      "test Accuracy: 59.65%\n",
      "train Accuracy: 68.29%\n",
      "\n",
      "Evaluating combination 5/120: C=0.001, Degree=2, coef0=10\n"
     ]
    },
    {
     "name": "stderr",
     "output_type": "stream",
     "text": [
      "Training Epochs: 100%|██████████| 30/30 [02:01<00:00,  4.05s/it]\n",
      "Grid Search:   4%|▍         | 5/120 [10:13<3:53:55, 122.04s/it]"
     ]
    },
    {
     "name": "stdout",
     "output_type": "stream",
     "text": [
      "test Accuracy: 61.85%\n",
      "train Accuracy: 69.78%\n",
      "\n",
      "Evaluating combination 6/120: C=0.001, Degree=3, coef0=0\n"
     ]
    },
    {
     "name": "stderr",
     "output_type": "stream",
     "text": [
      "Training Epochs: 100%|██████████| 30/30 [01:57<00:00,  3.91s/it]\n",
      "Grid Search:   5%|▌         | 6/120 [12:11<3:48:54, 120.48s/it]"
     ]
    },
    {
     "name": "stdout",
     "output_type": "stream",
     "text": [
      "test Accuracy: 60.50%\n",
      "train Accuracy: 78.65%\n",
      "\n",
      "Evaluating combination 7/120: C=0.001, Degree=3, coef0=2.5\n"
     ]
    },
    {
     "name": "stderr",
     "output_type": "stream",
     "text": [
      "Training Epochs: 100%|██████████| 30/30 [01:58<00:00,  3.93s/it]\n",
      "Grid Search:   6%|▌         | 7/120 [14:09<3:45:32, 119.75s/it]"
     ]
    },
    {
     "name": "stdout",
     "output_type": "stream",
     "text": [
      "test Accuracy: 61.10%\n",
      "train Accuracy: 78.16%\n",
      "\n",
      "Evaluating combination 8/120: C=0.001, Degree=3, coef0=5\n"
     ]
    },
    {
     "name": "stderr",
     "output_type": "stream",
     "text": [
      "Training Epochs: 100%|██████████| 30/30 [01:56<00:00,  3.89s/it]\n",
      "Grid Search:   7%|▋         | 8/120 [16:06<3:41:51, 118.85s/it]"
     ]
    },
    {
     "name": "stdout",
     "output_type": "stream",
     "text": [
      "test Accuracy: 61.10%\n",
      "train Accuracy: 78.95%\n",
      "\n",
      "Evaluating combination 9/120: C=0.001, Degree=3, coef0=7.5\n"
     ]
    },
    {
     "name": "stderr",
     "output_type": "stream",
     "text": [
      "Training Epochs: 100%|██████████| 30/30 [01:57<00:00,  3.92s/it]\n",
      "Grid Search:   8%|▊         | 9/120 [18:04<3:39:18, 118.55s/it]"
     ]
    },
    {
     "name": "stdout",
     "output_type": "stream",
     "text": [
      "test Accuracy: 61.95%\n",
      "train Accuracy: 79.39%\n",
      "\n",
      "Evaluating combination 10/120: C=0.001, Degree=3, coef0=10\n"
     ]
    },
    {
     "name": "stderr",
     "output_type": "stream",
     "text": [
      "Training Epochs: 100%|██████████| 30/30 [01:56<00:00,  3.89s/it]\n",
      "Grid Search:   8%|▊         | 10/120 [20:01<3:36:25, 118.05s/it]"
     ]
    },
    {
     "name": "stdout",
     "output_type": "stream",
     "text": [
      "test Accuracy: 62.10%\n",
      "train Accuracy: 80.80%\n",
      "\n",
      "Evaluating combination 11/120: C=0.001, Degree=4, coef0=0\n"
     ]
    },
    {
     "name": "stderr",
     "output_type": "stream",
     "text": [
      "Training Epochs: 100%|██████████| 30/30 [01:56<00:00,  3.89s/it]\n",
      "Grid Search:   9%|▉         | 11/120 [21:58<3:33:54, 117.75s/it]"
     ]
    },
    {
     "name": "stdout",
     "output_type": "stream",
     "text": [
      "test Accuracy: 61.15%\n",
      "train Accuracy: 81.55%\n",
      "\n",
      "Evaluating combination 12/120: C=0.001, Degree=4, coef0=2.5\n"
     ]
    },
    {
     "name": "stderr",
     "output_type": "stream",
     "text": [
      "Training Epochs: 100%|██████████| 30/30 [01:55<00:00,  3.86s/it]\n",
      "Grid Search:  10%|█         | 12/120 [23:54<3:31:02, 117.25s/it]"
     ]
    },
    {
     "name": "stdout",
     "output_type": "stream",
     "text": [
      "test Accuracy: 61.50%\n",
      "train Accuracy: 81.85%\n",
      "\n",
      "Evaluating combination 13/120: C=0.001, Degree=4, coef0=5\n"
     ]
    },
    {
     "name": "stderr",
     "output_type": "stream",
     "text": [
      "Training Epochs: 100%|██████████| 30/30 [01:56<00:00,  3.89s/it]\n",
      "Grid Search:  11%|█         | 13/120 [25:51<3:28:55, 117.16s/it]"
     ]
    },
    {
     "name": "stdout",
     "output_type": "stream",
     "text": [
      "test Accuracy: 61.20%\n",
      "train Accuracy: 81.45%\n",
      "\n",
      "Evaluating combination 14/120: C=0.001, Degree=4, coef0=7.5\n"
     ]
    },
    {
     "name": "stderr",
     "output_type": "stream",
     "text": [
      "Training Epochs: 100%|██████████| 30/30 [01:56<00:00,  3.87s/it]\n",
      "Grid Search:  12%|█▏        | 14/120 [27:47<3:26:31, 116.90s/it]"
     ]
    },
    {
     "name": "stdout",
     "output_type": "stream",
     "text": [
      "test Accuracy: 62.55%\n",
      "train Accuracy: 81.27%\n",
      "\n",
      "Evaluating combination 15/120: C=0.001, Degree=4, coef0=10\n"
     ]
    },
    {
     "name": "stderr",
     "output_type": "stream",
     "text": [
      "Training Epochs: 100%|██████████| 30/30 [01:56<00:00,  3.89s/it]\n",
      "Grid Search:  12%|█▎        | 15/120 [29:44<3:24:31, 116.88s/it]"
     ]
    },
    {
     "name": "stdout",
     "output_type": "stream",
     "text": [
      "test Accuracy: 62.00%\n",
      "train Accuracy: 82.28%\n",
      "\n",
      "Evaluating combination 16/120: C=0.001, Degree=5, coef0=0\n"
     ]
    },
    {
     "name": "stderr",
     "output_type": "stream",
     "text": [
      "Training Epochs: 100%|██████████| 30/30 [01:56<00:00,  3.87s/it]\n",
      "Grid Search:  13%|█▎        | 16/120 [31:40<3:22:19, 116.72s/it]"
     ]
    },
    {
     "name": "stdout",
     "output_type": "stream",
     "text": [
      "test Accuracy: 59.10%\n",
      "train Accuracy: 80.77%\n",
      "\n",
      "Evaluating combination 17/120: C=0.001, Degree=5, coef0=2.5\n"
     ]
    },
    {
     "name": "stderr",
     "output_type": "stream",
     "text": [
      "Training Epochs: 100%|██████████| 30/30 [01:56<00:00,  3.88s/it]\n",
      "Grid Search:  14%|█▍        | 17/120 [33:37<3:20:21, 116.71s/it]"
     ]
    },
    {
     "name": "stdout",
     "output_type": "stream",
     "text": [
      "test Accuracy: 57.65%\n",
      "train Accuracy: 81.35%\n",
      "\n",
      "Evaluating combination 18/120: C=0.001, Degree=5, coef0=5\n"
     ]
    },
    {
     "name": "stderr",
     "output_type": "stream",
     "text": [
      "Training Epochs: 100%|██████████| 30/30 [01:55<00:00,  3.86s/it]\n",
      "Grid Search:  15%|█▌        | 18/120 [35:33<3:18:08, 116.55s/it]"
     ]
    },
    {
     "name": "stdout",
     "output_type": "stream",
     "text": [
      "test Accuracy: 57.70%\n",
      "train Accuracy: 81.54%\n",
      "\n",
      "Evaluating combination 19/120: C=0.001, Degree=5, coef0=7.5\n"
     ]
    },
    {
     "name": "stderr",
     "output_type": "stream",
     "text": [
      "Training Epochs: 100%|██████████| 30/30 [01:55<00:00,  3.87s/it]\n",
      "Grid Search:  16%|█▌        | 19/120 [37:29<3:16:00, 116.44s/it]"
     ]
    },
    {
     "name": "stdout",
     "output_type": "stream",
     "text": [
      "test Accuracy: 58.55%\n",
      "train Accuracy: 83.02%\n",
      "\n",
      "Evaluating combination 20/120: C=0.001, Degree=5, coef0=10\n"
     ]
    },
    {
     "name": "stderr",
     "output_type": "stream",
     "text": [
      "Training Epochs: 100%|██████████| 30/30 [01:55<00:00,  3.85s/it]\n",
      "Grid Search:  17%|█▋        | 20/120 [39:25<3:13:45, 116.25s/it]"
     ]
    },
    {
     "name": "stdout",
     "output_type": "stream",
     "text": [
      "test Accuracy: 58.75%\n",
      "train Accuracy: 82.05%\n",
      "\n",
      "Evaluating combination 21/120: C=0.01, Degree=2, coef0=0\n"
     ]
    },
    {
     "name": "stderr",
     "output_type": "stream",
     "text": [
      "Training Epochs: 100%|██████████| 30/30 [02:05<00:00,  4.17s/it]\n",
      "Grid Search:  18%|█▊        | 21/120 [41:31<3:16:23, 119.02s/it]"
     ]
    },
    {
     "name": "stdout",
     "output_type": "stream",
     "text": [
      "test Accuracy: 61.30%\n",
      "train Accuracy: 72.47%\n",
      "\n",
      "Evaluating combination 22/120: C=0.01, Degree=2, coef0=2.5\n"
     ]
    },
    {
     "name": "stderr",
     "output_type": "stream",
     "text": [
      "Training Epochs: 100%|██████████| 30/30 [02:05<00:00,  4.19s/it]\n",
      "Grid Search:  18%|█▊        | 22/120 [43:37<3:17:51, 121.14s/it]"
     ]
    },
    {
     "name": "stdout",
     "output_type": "stream",
     "text": [
      "test Accuracy: 61.25%\n",
      "train Accuracy: 64.03%\n",
      "\n",
      "Evaluating combination 23/120: C=0.01, Degree=2, coef0=5\n"
     ]
    },
    {
     "name": "stderr",
     "output_type": "stream",
     "text": [
      "Training Epochs: 100%|██████████| 30/30 [02:01<00:00,  4.04s/it]\n",
      "Grid Search:  19%|█▉        | 23/120 [45:38<3:15:54, 121.18s/it]"
     ]
    },
    {
     "name": "stdout",
     "output_type": "stream",
     "text": [
      "test Accuracy: 60.50%\n",
      "train Accuracy: 68.93%\n",
      "\n",
      "Evaluating combination 24/120: C=0.01, Degree=2, coef0=7.5\n"
     ]
    },
    {
     "name": "stderr",
     "output_type": "stream",
     "text": [
      "Training Epochs: 100%|██████████| 30/30 [02:03<00:00,  4.10s/it]\n",
      "Grid Search:  20%|██        | 24/120 [47:41<3:14:53, 121.81s/it]"
     ]
    },
    {
     "name": "stdout",
     "output_type": "stream",
     "text": [
      "test Accuracy: 59.35%\n",
      "train Accuracy: 65.75%\n",
      "\n",
      "Evaluating combination 25/120: C=0.01, Degree=2, coef0=10\n"
     ]
    },
    {
     "name": "stderr",
     "output_type": "stream",
     "text": [
      "Training Epochs: 100%|██████████| 30/30 [02:05<00:00,  4.20s/it]\n",
      "Grid Search:  21%|██        | 25/120 [49:47<3:14:55, 123.11s/it]"
     ]
    },
    {
     "name": "stdout",
     "output_type": "stream",
     "text": [
      "test Accuracy: 63.05%\n",
      "train Accuracy: 71.99%\n",
      "\n",
      "Evaluating combination 26/120: C=0.01, Degree=3, coef0=0\n"
     ]
    },
    {
     "name": "stderr",
     "output_type": "stream",
     "text": [
      "Training Epochs: 100%|██████████| 30/30 [01:57<00:00,  3.93s/it]\n",
      "Grid Search:  22%|██▏       | 26/120 [51:46<3:10:33, 121.64s/it]"
     ]
    },
    {
     "name": "stdout",
     "output_type": "stream",
     "text": [
      "test Accuracy: 61.15%\n",
      "train Accuracy: 78.10%\n",
      "\n",
      "Evaluating combination 27/120: C=0.01, Degree=3, coef0=2.5\n"
     ]
    },
    {
     "name": "stderr",
     "output_type": "stream",
     "text": [
      "Training Epochs: 100%|██████████| 30/30 [01:58<00:00,  3.95s/it]\n",
      "Grid Search:  22%|██▎       | 27/120 [53:44<3:07:10, 120.76s/it]"
     ]
    },
    {
     "name": "stdout",
     "output_type": "stream",
     "text": [
      "test Accuracy: 60.95%\n",
      "train Accuracy: 78.09%\n",
      "\n",
      "Evaluating combination 28/120: C=0.01, Degree=3, coef0=5\n"
     ]
    },
    {
     "name": "stderr",
     "output_type": "stream",
     "text": [
      "Training Epochs: 100%|██████████| 30/30 [01:57<00:00,  3.92s/it]\n",
      "Grid Search:  23%|██▎       | 28/120 [55:42<3:03:47, 119.86s/it]"
     ]
    },
    {
     "name": "stdout",
     "output_type": "stream",
     "text": [
      "test Accuracy: 61.15%\n",
      "train Accuracy: 78.30%\n",
      "\n",
      "Evaluating combination 29/120: C=0.01, Degree=3, coef0=7.5\n"
     ]
    },
    {
     "name": "stderr",
     "output_type": "stream",
     "text": [
      "Training Epochs: 100%|██████████| 30/30 [01:57<00:00,  3.93s/it]\n",
      "Grid Search:  24%|██▍       | 29/120 [57:40<3:00:57, 119.31s/it]"
     ]
    },
    {
     "name": "stdout",
     "output_type": "stream",
     "text": [
      "test Accuracy: 62.10%\n",
      "train Accuracy: 79.46%\n",
      "\n",
      "Evaluating combination 30/120: C=0.01, Degree=3, coef0=10\n"
     ]
    },
    {
     "name": "stderr",
     "output_type": "stream",
     "text": [
      "Training Epochs: 100%|██████████| 30/30 [01:56<00:00,  3.89s/it]\n",
      "Grid Search:  25%|██▌       | 30/120 [59:37<2:57:52, 118.58s/it]"
     ]
    },
    {
     "name": "stdout",
     "output_type": "stream",
     "text": [
      "test Accuracy: 61.90%\n",
      "train Accuracy: 80.57%\n",
      "\n",
      "Evaluating combination 31/120: C=0.01, Degree=4, coef0=0\n"
     ]
    },
    {
     "name": "stderr",
     "output_type": "stream",
     "text": [
      "Training Epochs: 100%|██████████| 30/30 [01:56<00:00,  3.89s/it]\n",
      "Grid Search:  26%|██▌       | 31/120 [1:01:34<2:55:08, 118.08s/it]"
     ]
    },
    {
     "name": "stdout",
     "output_type": "stream",
     "text": [
      "test Accuracy: 59.75%\n",
      "train Accuracy: 81.74%\n",
      "\n",
      "Evaluating combination 32/120: C=0.01, Degree=4, coef0=2.5\n"
     ]
    },
    {
     "name": "stderr",
     "output_type": "stream",
     "text": [
      "Training Epochs: 100%|██████████| 30/30 [01:56<00:00,  3.90s/it]\n",
      "Grid Search:  27%|██▋       | 32/120 [1:03:31<2:52:46, 117.80s/it]"
     ]
    },
    {
     "name": "stdout",
     "output_type": "stream",
     "text": [
      "test Accuracy: 60.70%\n",
      "train Accuracy: 80.23%\n",
      "\n",
      "Evaluating combination 33/120: C=0.01, Degree=4, coef0=5\n"
     ]
    },
    {
     "name": "stderr",
     "output_type": "stream",
     "text": [
      "Training Epochs: 100%|██████████| 30/30 [01:56<00:00,  3.87s/it]\n",
      "Grid Search:  28%|██▊       | 33/120 [1:05:27<2:50:12, 117.39s/it]"
     ]
    },
    {
     "name": "stdout",
     "output_type": "stream",
     "text": [
      "test Accuracy: 61.40%\n",
      "train Accuracy: 81.47%\n",
      "\n",
      "Evaluating combination 34/120: C=0.01, Degree=4, coef0=7.5\n"
     ]
    },
    {
     "name": "stderr",
     "output_type": "stream",
     "text": [
      "Training Epochs: 100%|██████████| 30/30 [01:56<00:00,  3.88s/it]\n",
      "Grid Search:  28%|██▊       | 34/120 [1:07:24<2:47:54, 117.14s/it]"
     ]
    },
    {
     "name": "stdout",
     "output_type": "stream",
     "text": [
      "test Accuracy: 61.35%\n",
      "train Accuracy: 81.87%\n",
      "\n",
      "Evaluating combination 35/120: C=0.01, Degree=4, coef0=10\n"
     ]
    },
    {
     "name": "stderr",
     "output_type": "stream",
     "text": [
      "Training Epochs: 100%|██████████| 30/30 [01:56<00:00,  3.90s/it]\n",
      "Grid Search:  29%|██▉       | 35/120 [1:09:21<2:45:55, 117.12s/it]"
     ]
    },
    {
     "name": "stdout",
     "output_type": "stream",
     "text": [
      "test Accuracy: 60.90%\n",
      "train Accuracy: 81.43%\n",
      "\n",
      "Evaluating combination 36/120: C=0.01, Degree=5, coef0=0\n"
     ]
    },
    {
     "name": "stderr",
     "output_type": "stream",
     "text": [
      "Training Epochs: 100%|██████████| 30/30 [01:56<00:00,  3.87s/it]\n",
      "Grid Search:  30%|███       | 36/120 [1:11:17<2:43:39, 116.90s/it]"
     ]
    },
    {
     "name": "stdout",
     "output_type": "stream",
     "text": [
      "test Accuracy: 58.40%\n",
      "train Accuracy: 80.30%\n",
      "\n",
      "Evaluating combination 37/120: C=0.01, Degree=5, coef0=2.5\n"
     ]
    },
    {
     "name": "stderr",
     "output_type": "stream",
     "text": [
      "Training Epochs: 100%|██████████| 30/30 [01:56<00:00,  3.90s/it]\n",
      "Grid Search:  31%|███       | 37/120 [1:13:15<2:41:51, 117.01s/it]"
     ]
    },
    {
     "name": "stdout",
     "output_type": "stream",
     "text": [
      "test Accuracy: 58.25%\n",
      "train Accuracy: 81.76%\n",
      "\n",
      "Evaluating combination 38/120: C=0.01, Degree=5, coef0=5\n"
     ]
    },
    {
     "name": "stderr",
     "output_type": "stream",
     "text": [
      "Training Epochs: 100%|██████████| 30/30 [01:56<00:00,  3.87s/it]\n",
      "Grid Search:  32%|███▏      | 38/120 [1:15:11<2:39:39, 116.82s/it]"
     ]
    },
    {
     "name": "stdout",
     "output_type": "stream",
     "text": [
      "test Accuracy: 59.15%\n",
      "train Accuracy: 81.68%\n",
      "\n",
      "Evaluating combination 39/120: C=0.01, Degree=5, coef0=7.5\n"
     ]
    },
    {
     "name": "stderr",
     "output_type": "stream",
     "text": [
      "Training Epochs: 100%|██████████| 30/30 [01:56<00:00,  3.87s/it]\n",
      "Grid Search:  32%|███▎      | 39/120 [1:17:07<2:37:28, 116.65s/it]"
     ]
    },
    {
     "name": "stdout",
     "output_type": "stream",
     "text": [
      "test Accuracy: 58.55%\n",
      "train Accuracy: 83.29%\n",
      "\n",
      "Evaluating combination 40/120: C=0.01, Degree=5, coef0=10\n"
     ]
    },
    {
     "name": "stderr",
     "output_type": "stream",
     "text": [
      "Training Epochs: 100%|██████████| 30/30 [01:56<00:00,  3.88s/it]\n",
      "Grid Search:  33%|███▎      | 40/120 [1:19:04<2:35:32, 116.66s/it]"
     ]
    },
    {
     "name": "stdout",
     "output_type": "stream",
     "text": [
      "test Accuracy: 59.10%\n",
      "train Accuracy: 81.45%\n",
      "\n",
      "Evaluating combination 41/120: C=0.1, Degree=2, coef0=0\n"
     ]
    },
    {
     "name": "stderr",
     "output_type": "stream",
     "text": [
      "Training Epochs: 100%|██████████| 30/30 [02:02<00:00,  4.09s/it]\n",
      "Grid Search:  34%|███▍      | 41/120 [1:21:07<2:36:01, 118.50s/it]"
     ]
    },
    {
     "name": "stdout",
     "output_type": "stream",
     "text": [
      "test Accuracy: 58.55%\n",
      "train Accuracy: 66.82%\n",
      "\n",
      "Evaluating combination 42/120: C=0.1, Degree=2, coef0=2.5\n"
     ]
    },
    {
     "name": "stderr",
     "output_type": "stream",
     "text": [
      "Training Epochs: 100%|██████████| 30/30 [01:58<00:00,  3.96s/it]\n",
      "Grid Search:  35%|███▌      | 42/120 [1:23:06<2:34:17, 118.69s/it]"
     ]
    },
    {
     "name": "stdout",
     "output_type": "stream",
     "text": [
      "test Accuracy: 63.40%\n",
      "train Accuracy: 74.26%\n",
      "\n",
      "Evaluating combination 43/120: C=0.1, Degree=2, coef0=5\n"
     ]
    },
    {
     "name": "stderr",
     "output_type": "stream",
     "text": [
      "Training Epochs: 100%|██████████| 30/30 [02:01<00:00,  4.03s/it]\n",
      "Grid Search:  36%|███▌      | 43/120 [1:25:07<2:33:19, 119.47s/it]"
     ]
    },
    {
     "name": "stdout",
     "output_type": "stream",
     "text": [
      "test Accuracy: 59.00%\n",
      "train Accuracy: 63.76%\n",
      "\n",
      "Evaluating combination 44/120: C=0.1, Degree=2, coef0=7.5\n"
     ]
    },
    {
     "name": "stderr",
     "output_type": "stream",
     "text": [
      "Training Epochs: 100%|██████████| 30/30 [02:06<00:00,  4.22s/it]\n",
      "Grid Search:  37%|███▋      | 44/120 [1:27:14<2:34:11, 121.73s/it]"
     ]
    },
    {
     "name": "stdout",
     "output_type": "stream",
     "text": [
      "test Accuracy: 50.80%\n",
      "train Accuracy: 51.10%\n",
      "\n",
      "Evaluating combination 45/120: C=0.1, Degree=2, coef0=10\n"
     ]
    },
    {
     "name": "stderr",
     "output_type": "stream",
     "text": [
      "Training Epochs: 100%|██████████| 30/30 [02:04<00:00,  4.14s/it]\n",
      "Grid Search:  38%|███▊      | 45/120 [1:29:19<2:33:11, 122.55s/it]"
     ]
    },
    {
     "name": "stdout",
     "output_type": "stream",
     "text": [
      "test Accuracy: 57.15%\n",
      "train Accuracy: 61.15%\n",
      "\n",
      "Evaluating combination 46/120: C=0.1, Degree=3, coef0=0\n"
     ]
    },
    {
     "name": "stderr",
     "output_type": "stream",
     "text": [
      "Training Epochs: 100%|██████████| 30/30 [01:58<00:00,  3.94s/it]\n",
      "Grid Search:  38%|███▊      | 46/120 [1:31:17<2:29:38, 121.33s/it]"
     ]
    },
    {
     "name": "stdout",
     "output_type": "stream",
     "text": [
      "test Accuracy: 60.55%\n",
      "train Accuracy: 78.75%\n",
      "\n",
      "Evaluating combination 47/120: C=0.1, Degree=3, coef0=2.5\n"
     ]
    },
    {
     "name": "stderr",
     "output_type": "stream",
     "text": [
      "Training Epochs: 100%|██████████| 30/30 [01:57<00:00,  3.92s/it]\n",
      "Grid Search:  39%|███▉      | 47/120 [1:33:15<2:26:22, 120.31s/it]"
     ]
    },
    {
     "name": "stdout",
     "output_type": "stream",
     "text": [
      "test Accuracy: 60.90%\n",
      "train Accuracy: 78.68%\n",
      "\n",
      "Evaluating combination 48/120: C=0.1, Degree=3, coef0=5\n"
     ]
    },
    {
     "name": "stderr",
     "output_type": "stream",
     "text": [
      "Training Epochs: 100%|██████████| 30/30 [01:56<00:00,  3.89s/it]\n",
      "Grid Search:  40%|████      | 48/120 [1:35:12<2:23:09, 119.30s/it]"
     ]
    },
    {
     "name": "stdout",
     "output_type": "stream",
     "text": [
      "test Accuracy: 61.50%\n",
      "train Accuracy: 79.52%\n",
      "\n",
      "Evaluating combination 49/120: C=0.1, Degree=3, coef0=7.5\n"
     ]
    },
    {
     "name": "stderr",
     "output_type": "stream",
     "text": [
      "Training Epochs: 100%|██████████| 30/30 [01:57<00:00,  3.91s/it]\n",
      "Grid Search:  41%|████      | 49/120 [1:37:09<2:20:29, 118.73s/it]"
     ]
    },
    {
     "name": "stdout",
     "output_type": "stream",
     "text": [
      "test Accuracy: 61.90%\n",
      "train Accuracy: 80.21%\n",
      "\n",
      "Evaluating combination 50/120: C=0.1, Degree=3, coef0=10\n"
     ]
    },
    {
     "name": "stderr",
     "output_type": "stream",
     "text": [
      "Training Epochs: 100%|██████████| 30/30 [01:57<00:00,  3.90s/it]\n",
      "Grid Search:  42%|████▏     | 50/120 [1:39:07<2:17:59, 118.29s/it]"
     ]
    },
    {
     "name": "stdout",
     "output_type": "stream",
     "text": [
      "test Accuracy: 60.80%\n",
      "train Accuracy: 79.23%\n",
      "\n",
      "Evaluating combination 51/120: C=0.1, Degree=4, coef0=0\n"
     ]
    },
    {
     "name": "stderr",
     "output_type": "stream",
     "text": [
      "Training Epochs: 100%|██████████| 30/30 [01:56<00:00,  3.87s/it]\n",
      "Grid Search:  42%|████▎     | 51/120 [1:41:03<2:15:18, 117.66s/it]"
     ]
    },
    {
     "name": "stdout",
     "output_type": "stream",
     "text": [
      "test Accuracy: 60.85%\n",
      "train Accuracy: 82.09%\n",
      "\n",
      "Evaluating combination 52/120: C=0.1, Degree=4, coef0=2.5\n"
     ]
    },
    {
     "name": "stderr",
     "output_type": "stream",
     "text": [
      "Training Epochs: 100%|██████████| 30/30 [01:57<00:00,  3.90s/it]\n",
      "Grid Search:  43%|████▎     | 52/120 [1:43:00<2:13:12, 117.54s/it]"
     ]
    },
    {
     "name": "stdout",
     "output_type": "stream",
     "text": [
      "test Accuracy: 60.70%\n",
      "train Accuracy: 80.53%\n",
      "\n",
      "Evaluating combination 53/120: C=0.1, Degree=4, coef0=5\n"
     ]
    },
    {
     "name": "stderr",
     "output_type": "stream",
     "text": [
      "Training Epochs: 100%|██████████| 30/30 [01:56<00:00,  3.89s/it]\n",
      "Grid Search:  44%|████▍     | 53/120 [1:44:57<2:11:02, 117.35s/it]"
     ]
    },
    {
     "name": "stdout",
     "output_type": "stream",
     "text": [
      "test Accuracy: 62.55%\n",
      "train Accuracy: 82.34%\n",
      "\n",
      "Evaluating combination 54/120: C=0.1, Degree=4, coef0=7.5\n"
     ]
    },
    {
     "name": "stderr",
     "output_type": "stream",
     "text": [
      "Training Epochs: 100%|██████████| 30/30 [01:56<00:00,  3.87s/it]\n",
      "Grid Search:  45%|████▌     | 54/120 [1:46:53<2:08:43, 117.02s/it]"
     ]
    },
    {
     "name": "stdout",
     "output_type": "stream",
     "text": [
      "test Accuracy: 61.15%\n",
      "train Accuracy: 82.30%\n",
      "\n",
      "Evaluating combination 55/120: C=0.1, Degree=4, coef0=10\n"
     ]
    },
    {
     "name": "stderr",
     "output_type": "stream",
     "text": [
      "Training Epochs: 100%|██████████| 30/30 [01:56<00:00,  3.87s/it]\n",
      "Grid Search:  46%|████▌     | 55/120 [1:48:50<2:06:32, 116.80s/it]"
     ]
    },
    {
     "name": "stdout",
     "output_type": "stream",
     "text": [
      "test Accuracy: 60.50%\n",
      "train Accuracy: 81.77%\n",
      "\n",
      "Evaluating combination 56/120: C=0.1, Degree=5, coef0=0\n"
     ]
    },
    {
     "name": "stderr",
     "output_type": "stream",
     "text": [
      "Training Epochs: 100%|██████████| 30/30 [01:56<00:00,  3.89s/it]\n",
      "Grid Search:  47%|████▋     | 56/120 [1:50:46<2:04:36, 116.82s/it]"
     ]
    },
    {
     "name": "stdout",
     "output_type": "stream",
     "text": [
      "test Accuracy: 59.60%\n",
      "train Accuracy: 81.44%\n",
      "\n",
      "Evaluating combination 57/120: C=0.1, Degree=5, coef0=2.5\n"
     ]
    },
    {
     "name": "stderr",
     "output_type": "stream",
     "text": [
      "Training Epochs: 100%|██████████| 30/30 [01:56<00:00,  3.89s/it]\n",
      "Grid Search:  48%|████▊     | 57/120 [1:52:43<2:02:43, 116.88s/it]"
     ]
    },
    {
     "name": "stdout",
     "output_type": "stream",
     "text": [
      "test Accuracy: 58.05%\n",
      "train Accuracy: 81.56%\n",
      "\n",
      "Evaluating combination 58/120: C=0.1, Degree=5, coef0=5\n"
     ]
    },
    {
     "name": "stderr",
     "output_type": "stream",
     "text": [
      "Training Epochs: 100%|██████████| 30/30 [01:56<00:00,  3.89s/it]\n",
      "Grid Search:  48%|████▊     | 58/120 [1:54:40<2:00:44, 116.85s/it]"
     ]
    },
    {
     "name": "stdout",
     "output_type": "stream",
     "text": [
      "test Accuracy: 58.95%\n",
      "train Accuracy: 81.66%\n",
      "\n",
      "Evaluating combination 59/120: C=0.1, Degree=5, coef0=7.5\n"
     ]
    },
    {
     "name": "stderr",
     "output_type": "stream",
     "text": [
      "Training Epochs: 100%|██████████| 30/30 [01:55<00:00,  3.86s/it]\n",
      "Grid Search:  49%|████▉     | 59/120 [1:56:36<1:58:33, 116.62s/it]"
     ]
    },
    {
     "name": "stdout",
     "output_type": "stream",
     "text": [
      "test Accuracy: 59.40%\n",
      "train Accuracy: 83.63%\n",
      "\n",
      "Evaluating combination 60/120: C=0.1, Degree=5, coef0=10\n"
     ]
    },
    {
     "name": "stderr",
     "output_type": "stream",
     "text": [
      "Training Epochs: 100%|██████████| 30/30 [01:56<00:00,  3.88s/it]\n",
      "Grid Search:  50%|█████     | 60/120 [1:58:33<1:56:36, 116.61s/it]"
     ]
    },
    {
     "name": "stdout",
     "output_type": "stream",
     "text": [
      "test Accuracy: 59.15%\n",
      "train Accuracy: 82.19%\n",
      "\n",
      "Evaluating combination 61/120: C=1, Degree=2, coef0=0\n"
     ]
    },
    {
     "name": "stderr",
     "output_type": "stream",
     "text": [
      "Training Epochs: 100%|██████████| 30/30 [02:07<00:00,  4.24s/it]\n",
      "Grid Search:  51%|█████     | 61/120 [2:00:40<1:57:52, 119.86s/it]"
     ]
    },
    {
     "name": "stdout",
     "output_type": "stream",
     "text": [
      "test Accuracy: 61.80%\n",
      "train Accuracy: 73.18%\n",
      "\n",
      "Evaluating combination 62/120: C=1, Degree=2, coef0=2.5\n"
     ]
    },
    {
     "name": "stderr",
     "output_type": "stream",
     "text": [
      "Training Epochs: 100%|██████████| 30/30 [02:04<00:00,  4.14s/it]\n",
      "Grid Search:  52%|█████▏    | 62/120 [2:02:45<1:57:13, 121.26s/it]"
     ]
    },
    {
     "name": "stdout",
     "output_type": "stream",
     "text": [
      "test Accuracy: 62.90%\n",
      "train Accuracy: 73.02%\n",
      "\n",
      "Evaluating combination 63/120: C=1, Degree=2, coef0=5\n"
     ]
    },
    {
     "name": "stderr",
     "output_type": "stream",
     "text": [
      "Training Epochs: 100%|██████████| 30/30 [02:04<00:00,  4.17s/it]\n",
      "Grid Search:  52%|█████▎    | 63/120 [2:04:50<1:56:19, 122.45s/it]"
     ]
    },
    {
     "name": "stdout",
     "output_type": "stream",
     "text": [
      "test Accuracy: 63.35%\n",
      "train Accuracy: 73.71%\n",
      "\n",
      "Evaluating combination 64/120: C=1, Degree=2, coef0=7.5\n"
     ]
    },
    {
     "name": "stderr",
     "output_type": "stream",
     "text": [
      "Training Epochs: 100%|██████████| 30/30 [02:06<00:00,  4.22s/it]\n",
      "Grid Search:  53%|█████▎    | 64/120 [2:06:57<1:55:32, 123.80s/it]"
     ]
    },
    {
     "name": "stdout",
     "output_type": "stream",
     "text": [
      "test Accuracy: 63.30%\n",
      "train Accuracy: 73.78%\n",
      "\n",
      "Evaluating combination 65/120: C=1, Degree=2, coef0=10\n"
     ]
    },
    {
     "name": "stderr",
     "output_type": "stream",
     "text": [
      "Training Epochs: 100%|██████████| 30/30 [01:59<00:00,  3.97s/it]\n",
      "Grid Search:  54%|█████▍    | 65/120 [2:08:57<1:52:16, 122.48s/it]"
     ]
    },
    {
     "name": "stdout",
     "output_type": "stream",
     "text": [
      "test Accuracy: 63.00%\n",
      "train Accuracy: 74.93%\n",
      "\n",
      "Evaluating combination 66/120: C=1, Degree=3, coef0=0\n"
     ]
    },
    {
     "name": "stderr",
     "output_type": "stream",
     "text": [
      "Training Epochs: 100%|██████████| 30/30 [01:57<00:00,  3.92s/it]\n",
      "Grid Search:  55%|█████▌    | 66/120 [2:10:54<1:49:00, 121.13s/it]"
     ]
    },
    {
     "name": "stdout",
     "output_type": "stream",
     "text": [
      "test Accuracy: 60.55%\n",
      "train Accuracy: 78.75%\n",
      "\n",
      "Evaluating combination 67/120: C=1, Degree=3, coef0=2.5\n"
     ]
    },
    {
     "name": "stderr",
     "output_type": "stream",
     "text": [
      "Training Epochs: 100%|██████████| 30/30 [01:57<00:00,  3.93s/it]\n",
      "Grid Search:  56%|█████▌    | 67/120 [2:12:53<1:46:10, 120.20s/it]"
     ]
    },
    {
     "name": "stdout",
     "output_type": "stream",
     "text": [
      "test Accuracy: 61.40%\n",
      "train Accuracy: 79.15%\n",
      "\n",
      "Evaluating combination 68/120: C=1, Degree=3, coef0=5\n"
     ]
    },
    {
     "name": "stderr",
     "output_type": "stream",
     "text": [
      "Training Epochs: 100%|██████████| 30/30 [01:57<00:00,  3.91s/it]\n",
      "Grid Search:  57%|█████▋    | 68/120 [2:14:50<1:43:28, 119.39s/it]"
     ]
    },
    {
     "name": "stdout",
     "output_type": "stream",
     "text": [
      "test Accuracy: 61.70%\n",
      "train Accuracy: 78.70%\n",
      "\n",
      "Evaluating combination 69/120: C=1, Degree=3, coef0=7.5\n"
     ]
    },
    {
     "name": "stderr",
     "output_type": "stream",
     "text": [
      "Training Epochs: 100%|██████████| 30/30 [01:57<00:00,  3.90s/it]\n",
      "Grid Search:  57%|█████▊    | 69/120 [2:16:47<1:40:56, 118.76s/it]"
     ]
    },
    {
     "name": "stdout",
     "output_type": "stream",
     "text": [
      "test Accuracy: 61.90%\n",
      "train Accuracy: 80.22%\n",
      "\n",
      "Evaluating combination 70/120: C=1, Degree=3, coef0=10\n"
     ]
    },
    {
     "name": "stderr",
     "output_type": "stream",
     "text": [
      "Training Epochs: 100%|██████████| 30/30 [01:57<00:00,  3.91s/it]\n",
      "Grid Search:  58%|█████▊    | 70/120 [2:18:45<1:38:37, 118.35s/it]"
     ]
    },
    {
     "name": "stdout",
     "output_type": "stream",
     "text": [
      "test Accuracy: 61.70%\n",
      "train Accuracy: 80.02%\n",
      "\n",
      "Evaluating combination 71/120: C=1, Degree=4, coef0=0\n"
     ]
    },
    {
     "name": "stderr",
     "output_type": "stream",
     "text": [
      "Training Epochs: 100%|██████████| 30/30 [01:55<00:00,  3.86s/it]\n",
      "Grid Search:  59%|█████▉    | 71/120 [2:20:41<1:36:04, 117.64s/it]"
     ]
    },
    {
     "name": "stdout",
     "output_type": "stream",
     "text": [
      "test Accuracy: 60.85%\n",
      "train Accuracy: 82.08%\n",
      "\n",
      "Evaluating combination 72/120: C=1, Degree=4, coef0=2.5\n"
     ]
    },
    {
     "name": "stderr",
     "output_type": "stream",
     "text": [
      "Training Epochs: 100%|██████████| 30/30 [01:56<00:00,  3.89s/it]\n",
      "Grid Search:  60%|██████    | 72/120 [2:22:38<1:33:57, 117.44s/it]"
     ]
    },
    {
     "name": "stdout",
     "output_type": "stream",
     "text": [
      "test Accuracy: 60.70%\n",
      "train Accuracy: 80.53%\n",
      "\n",
      "Evaluating combination 73/120: C=1, Degree=4, coef0=5\n"
     ]
    },
    {
     "name": "stderr",
     "output_type": "stream",
     "text": [
      "Training Epochs: 100%|██████████| 30/30 [01:55<00:00,  3.85s/it]\n",
      "Grid Search:  61%|██████    | 73/120 [2:24:33<1:31:35, 116.93s/it]"
     ]
    },
    {
     "name": "stdout",
     "output_type": "stream",
     "text": [
      "test Accuracy: 62.55%\n",
      "train Accuracy: 82.34%\n",
      "\n",
      "Evaluating combination 74/120: C=1, Degree=4, coef0=7.5\n"
     ]
    },
    {
     "name": "stderr",
     "output_type": "stream",
     "text": [
      "Training Epochs: 100%|██████████| 30/30 [01:55<00:00,  3.85s/it]\n",
      "Grid Search:  62%|██████▏   | 74/120 [2:26:29<1:29:20, 116.52s/it]"
     ]
    },
    {
     "name": "stdout",
     "output_type": "stream",
     "text": [
      "test Accuracy: 61.15%\n",
      "train Accuracy: 82.30%\n",
      "\n",
      "Evaluating combination 75/120: C=1, Degree=4, coef0=10\n"
     ]
    },
    {
     "name": "stderr",
     "output_type": "stream",
     "text": [
      "Training Epochs: 100%|██████████| 30/30 [01:56<00:00,  3.87s/it]\n",
      "Grid Search:  62%|██████▎   | 75/120 [2:28:25<1:27:22, 116.49s/it]"
     ]
    },
    {
     "name": "stdout",
     "output_type": "stream",
     "text": [
      "test Accuracy: 61.50%\n",
      "train Accuracy: 82.80%\n",
      "\n",
      "Evaluating combination 76/120: C=1, Degree=5, coef0=0\n"
     ]
    },
    {
     "name": "stderr",
     "output_type": "stream",
     "text": [
      "Training Epochs: 100%|██████████| 30/30 [01:56<00:00,  3.88s/it]\n",
      "Grid Search:  63%|██████▎   | 76/120 [2:30:22<1:25:27, 116.53s/it]"
     ]
    },
    {
     "name": "stdout",
     "output_type": "stream",
     "text": [
      "test Accuracy: 59.60%\n",
      "train Accuracy: 81.41%\n",
      "\n",
      "Evaluating combination 77/120: C=1, Degree=5, coef0=2.5\n"
     ]
    },
    {
     "name": "stderr",
     "output_type": "stream",
     "text": [
      "Training Epochs: 100%|██████████| 30/30 [01:55<00:00,  3.86s/it]\n",
      "Grid Search:  64%|██████▍   | 77/120 [2:32:18<1:23:24, 116.38s/it]"
     ]
    },
    {
     "name": "stdout",
     "output_type": "stream",
     "text": [
      "test Accuracy: 58.05%\n",
      "train Accuracy: 81.56%\n",
      "\n",
      "Evaluating combination 78/120: C=1, Degree=5, coef0=5\n"
     ]
    },
    {
     "name": "stderr",
     "output_type": "stream",
     "text": [
      "Training Epochs: 100%|██████████| 30/30 [01:56<00:00,  3.88s/it]\n",
      "Grid Search:  65%|██████▌   | 78/120 [2:34:15<1:21:32, 116.49s/it]"
     ]
    },
    {
     "name": "stdout",
     "output_type": "stream",
     "text": [
      "test Accuracy: 58.95%\n",
      "train Accuracy: 81.66%\n",
      "\n",
      "Evaluating combination 79/120: C=1, Degree=5, coef0=7.5\n"
     ]
    },
    {
     "name": "stderr",
     "output_type": "stream",
     "text": [
      "Training Epochs: 100%|██████████| 30/30 [01:55<00:00,  3.86s/it]\n",
      "Grid Search:  66%|██████▌   | 79/120 [2:36:11<1:19:29, 116.33s/it]"
     ]
    },
    {
     "name": "stdout",
     "output_type": "stream",
     "text": [
      "test Accuracy: 59.40%\n",
      "train Accuracy: 83.62%\n",
      "\n",
      "Evaluating combination 80/120: C=1, Degree=5, coef0=10\n"
     ]
    },
    {
     "name": "stderr",
     "output_type": "stream",
     "text": [
      "Training Epochs: 100%|██████████| 30/30 [01:56<00:00,  3.87s/it]\n",
      "Grid Search:  67%|██████▋   | 80/120 [2:38:07<1:17:33, 116.34s/it]"
     ]
    },
    {
     "name": "stdout",
     "output_type": "stream",
     "text": [
      "test Accuracy: 59.20%\n",
      "train Accuracy: 82.20%\n",
      "\n",
      "Evaluating combination 81/120: C=10, Degree=2, coef0=0\n"
     ]
    },
    {
     "name": "stderr",
     "output_type": "stream",
     "text": [
      "Training Epochs: 100%|██████████| 30/30 [02:00<00:00,  4.00s/it]\n",
      "Grid Search:  68%|██████▊   | 81/120 [2:40:07<1:16:24, 117.55s/it]"
     ]
    },
    {
     "name": "stdout",
     "output_type": "stream",
     "text": [
      "test Accuracy: 61.20%\n",
      "train Accuracy: 72.36%\n",
      "\n",
      "Evaluating combination 82/120: C=10, Degree=2, coef0=2.5\n"
     ]
    },
    {
     "name": "stderr",
     "output_type": "stream",
     "text": [
      "Training Epochs: 100%|██████████| 30/30 [02:09<00:00,  4.30s/it]\n",
      "Grid Search:  68%|██████▊   | 82/120 [2:42:17<1:16:42, 121.11s/it]"
     ]
    },
    {
     "name": "stdout",
     "output_type": "stream",
     "text": [
      "test Accuracy: 61.75%\n",
      "train Accuracy: 64.45%\n",
      "\n",
      "Evaluating combination 83/120: C=10, Degree=2, coef0=5\n"
     ]
    },
    {
     "name": "stderr",
     "output_type": "stream",
     "text": [
      "Training Epochs: 100%|██████████| 30/30 [01:58<00:00,  3.95s/it]\n",
      "Grid Search:  69%|██████▉   | 83/120 [2:44:16<1:14:15, 120.43s/it]"
     ]
    },
    {
     "name": "stdout",
     "output_type": "stream",
     "text": [
      "test Accuracy: 63.20%\n",
      "train Accuracy: 74.24%\n",
      "\n",
      "Evaluating combination 84/120: C=10, Degree=2, coef0=7.5\n"
     ]
    },
    {
     "name": "stderr",
     "output_type": "stream",
     "text": [
      "Training Epochs: 100%|██████████| 30/30 [01:59<00:00,  4.00s/it]\n",
      "Grid Search:  70%|███████   | 84/120 [2:46:16<1:12:12, 120.35s/it]"
     ]
    },
    {
     "name": "stdout",
     "output_type": "stream",
     "text": [
      "test Accuracy: 64.25%\n",
      "train Accuracy: 73.49%\n",
      "\n",
      "Evaluating combination 85/120: C=10, Degree=2, coef0=10\n"
     ]
    },
    {
     "name": "stderr",
     "output_type": "stream",
     "text": [
      "Training Epochs: 100%|██████████| 30/30 [02:02<00:00,  4.07s/it]\n",
      "Grid Search:  71%|███████   | 85/120 [2:48:18<1:10:33, 120.96s/it]"
     ]
    },
    {
     "name": "stdout",
     "output_type": "stream",
     "text": [
      "test Accuracy: 56.70%\n",
      "train Accuracy: 61.45%\n",
      "\n",
      "Evaluating combination 86/120: C=10, Degree=3, coef0=0\n"
     ]
    },
    {
     "name": "stderr",
     "output_type": "stream",
     "text": [
      "Training Epochs: 100%|██████████| 30/30 [02:05<00:00,  4.20s/it]\n",
      "Grid Search:  72%|███████▏  | 86/120 [2:50:24<1:09:25, 122.51s/it]"
     ]
    },
    {
     "name": "stdout",
     "output_type": "stream",
     "text": [
      "test Accuracy: 60.80%\n",
      "train Accuracy: 78.61%\n",
      "\n",
      "Evaluating combination 87/120: C=10, Degree=3, coef0=2.5\n"
     ]
    },
    {
     "name": "stderr",
     "output_type": "stream",
     "text": [
      "Training Epochs: 100%|██████████| 30/30 [02:05<00:00,  4.17s/it]\n",
      "Grid Search:  72%|███████▎  | 87/120 [2:52:30<1:07:52, 123.40s/it]"
     ]
    },
    {
     "name": "stdout",
     "output_type": "stream",
     "text": [
      "test Accuracy: 60.35%\n",
      "train Accuracy: 78.29%\n",
      "\n",
      "Evaluating combination 88/120: C=10, Degree=3, coef0=5\n"
     ]
    },
    {
     "name": "stderr",
     "output_type": "stream",
     "text": [
      "Training Epochs: 100%|██████████| 30/30 [02:05<00:00,  4.18s/it]\n",
      "Grid Search:  73%|███████▎  | 88/120 [2:54:35<1:06:09, 124.04s/it]"
     ]
    },
    {
     "name": "stdout",
     "output_type": "stream",
     "text": [
      "test Accuracy: 61.15%\n",
      "train Accuracy: 79.94%\n",
      "\n",
      "Evaluating combination 89/120: C=10, Degree=3, coef0=7.5\n"
     ]
    },
    {
     "name": "stderr",
     "output_type": "stream",
     "text": [
      "Training Epochs: 100%|██████████| 30/30 [02:04<00:00,  4.16s/it]\n",
      "Grid Search:  74%|███████▍  | 89/120 [2:56:40<1:04:14, 124.34s/it]"
     ]
    },
    {
     "name": "stdout",
     "output_type": "stream",
     "text": [
      "test Accuracy: 61.30%\n",
      "train Accuracy: 78.52%\n",
      "\n",
      "Evaluating combination 90/120: C=10, Degree=3, coef0=10\n"
     ]
    },
    {
     "name": "stderr",
     "output_type": "stream",
     "text": [
      "Training Epochs: 100%|██████████| 30/30 [02:04<00:00,  4.15s/it]\n",
      "Grid Search:  75%|███████▌  | 90/120 [2:58:45<1:02:14, 124.49s/it]"
     ]
    },
    {
     "name": "stdout",
     "output_type": "stream",
     "text": [
      "test Accuracy: 61.65%\n",
      "train Accuracy: 80.02%\n",
      "\n",
      "Evaluating combination 91/120: C=10, Degree=4, coef0=0\n"
     ]
    },
    {
     "name": "stderr",
     "output_type": "stream",
     "text": [
      "Training Epochs: 100%|██████████| 30/30 [01:56<00:00,  3.87s/it]\n",
      "Grid Search:  76%|███████▌  | 91/120 [3:00:42<58:59, 122.05s/it]  "
     ]
    },
    {
     "name": "stdout",
     "output_type": "stream",
     "text": [
      "test Accuracy: 60.85%\n",
      "train Accuracy: 82.08%\n",
      "\n",
      "Evaluating combination 92/120: C=10, Degree=4, coef0=2.5\n"
     ]
    },
    {
     "name": "stderr",
     "output_type": "stream",
     "text": [
      "Training Epochs: 100%|██████████| 30/30 [01:56<00:00,  3.87s/it]\n",
      "Grid Search:  77%|███████▋  | 92/120 [3:02:38<56:10, 120.36s/it]"
     ]
    },
    {
     "name": "stdout",
     "output_type": "stream",
     "text": [
      "test Accuracy: 60.70%\n",
      "train Accuracy: 80.53%\n",
      "\n",
      "Evaluating combination 93/120: C=10, Degree=4, coef0=5\n"
     ]
    },
    {
     "name": "stderr",
     "output_type": "stream",
     "text": [
      "Training Epochs: 100%|██████████| 30/30 [01:56<00:00,  3.88s/it]\n",
      "Grid Search:  78%|███████▊  | 93/120 [3:04:35<53:38, 119.22s/it]"
     ]
    },
    {
     "name": "stdout",
     "output_type": "stream",
     "text": [
      "test Accuracy: 62.55%\n",
      "train Accuracy: 82.34%\n",
      "\n",
      "Evaluating combination 94/120: C=10, Degree=4, coef0=7.5\n"
     ]
    },
    {
     "name": "stderr",
     "output_type": "stream",
     "text": [
      "Training Epochs: 100%|██████████| 30/30 [01:55<00:00,  3.86s/it]\n",
      "Grid Search:  78%|███████▊  | 94/120 [3:06:31<51:15, 118.30s/it]"
     ]
    },
    {
     "name": "stdout",
     "output_type": "stream",
     "text": [
      "test Accuracy: 61.15%\n",
      "train Accuracy: 82.30%\n",
      "\n",
      "Evaluating combination 95/120: C=10, Degree=4, coef0=10\n"
     ]
    },
    {
     "name": "stderr",
     "output_type": "stream",
     "text": [
      "Training Epochs: 100%|██████████| 30/30 [01:55<00:00,  3.87s/it]\n",
      "Grid Search:  79%|███████▉  | 95/120 [3:08:27<49:01, 117.67s/it]"
     ]
    },
    {
     "name": "stdout",
     "output_type": "stream",
     "text": [
      "test Accuracy: 61.50%\n",
      "train Accuracy: 82.80%\n",
      "\n",
      "Evaluating combination 96/120: C=10, Degree=5, coef0=0\n"
     ]
    },
    {
     "name": "stderr",
     "output_type": "stream",
     "text": [
      "Training Epochs: 100%|██████████| 30/30 [01:56<00:00,  3.88s/it]\n",
      "Grid Search:  80%|████████  | 96/120 [3:10:24<46:57, 117.41s/it]"
     ]
    },
    {
     "name": "stdout",
     "output_type": "stream",
     "text": [
      "test Accuracy: 59.60%\n",
      "train Accuracy: 81.42%\n",
      "\n",
      "Evaluating combination 97/120: C=10, Degree=5, coef0=2.5\n"
     ]
    },
    {
     "name": "stderr",
     "output_type": "stream",
     "text": [
      "Training Epochs: 100%|██████████| 30/30 [01:56<00:00,  3.88s/it]\n",
      "Grid Search:  81%|████████  | 97/120 [3:12:20<44:55, 117.19s/it]"
     ]
    },
    {
     "name": "stdout",
     "output_type": "stream",
     "text": [
      "test Accuracy: 58.05%\n",
      "train Accuracy: 81.55%\n",
      "\n",
      "Evaluating combination 98/120: C=10, Degree=5, coef0=5\n"
     ]
    },
    {
     "name": "stderr",
     "output_type": "stream",
     "text": [
      "Training Epochs: 100%|██████████| 30/30 [01:55<00:00,  3.86s/it]\n",
      "Grid Search:  82%|████████▏ | 98/120 [3:14:17<42:51, 116.87s/it]"
     ]
    },
    {
     "name": "stdout",
     "output_type": "stream",
     "text": [
      "test Accuracy: 58.95%\n",
      "train Accuracy: 81.64%\n",
      "\n",
      "Evaluating combination 99/120: C=10, Degree=5, coef0=7.5\n"
     ]
    },
    {
     "name": "stderr",
     "output_type": "stream",
     "text": [
      "Training Epochs: 100%|██████████| 30/30 [01:56<00:00,  3.87s/it]\n",
      "Grid Search:  82%|████████▎ | 99/120 [3:16:13<40:50, 116.71s/it]"
     ]
    },
    {
     "name": "stdout",
     "output_type": "stream",
     "text": [
      "test Accuracy: 59.35%\n",
      "train Accuracy: 83.64%\n",
      "\n",
      "Evaluating combination 100/120: C=10, Degree=5, coef0=10\n"
     ]
    },
    {
     "name": "stderr",
     "output_type": "stream",
     "text": [
      "Training Epochs: 100%|██████████| 30/30 [01:56<00:00,  3.87s/it]\n",
      "Grid Search:  83%|████████▎ | 100/120 [3:18:09<38:51, 116.59s/it]"
     ]
    },
    {
     "name": "stdout",
     "output_type": "stream",
     "text": [
      "test Accuracy: 59.15%\n",
      "train Accuracy: 82.19%\n",
      "\n",
      "Evaluating combination 101/120: C=100, Degree=2, coef0=0\n"
     ]
    },
    {
     "name": "stderr",
     "output_type": "stream",
     "text": [
      "Training Epochs: 100%|██████████| 30/30 [01:59<00:00,  3.98s/it]\n",
      "Grid Search:  84%|████████▍ | 101/120 [3:20:09<37:13, 117.54s/it]"
     ]
    },
    {
     "name": "stdout",
     "output_type": "stream",
     "text": [
      "test Accuracy: 62.15%\n",
      "train Accuracy: 72.52%\n",
      "\n",
      "Evaluating combination 102/120: C=100, Degree=2, coef0=2.5\n"
     ]
    },
    {
     "name": "stderr",
     "output_type": "stream",
     "text": [
      "Training Epochs: 100%|██████████| 30/30 [02:03<00:00,  4.11s/it]\n",
      "Grid Search:  85%|████████▌ | 102/120 [3:22:12<35:47, 119.32s/it]"
     ]
    },
    {
     "name": "stdout",
     "output_type": "stream",
     "text": [
      "test Accuracy: 56.50%\n",
      "train Accuracy: 61.70%\n",
      "\n",
      "Evaluating combination 103/120: C=100, Degree=2, coef0=5\n"
     ]
    },
    {
     "name": "stderr",
     "output_type": "stream",
     "text": [
      "Training Epochs: 100%|██████████| 30/30 [02:00<00:00,  4.01s/it]\n",
      "Grid Search:  86%|████████▌ | 103/120 [3:24:13<33:54, 119.70s/it]"
     ]
    },
    {
     "name": "stdout",
     "output_type": "stream",
     "text": [
      "test Accuracy: 62.15%\n",
      "train Accuracy: 73.88%\n",
      "\n",
      "Evaluating combination 104/120: C=100, Degree=2, coef0=7.5\n"
     ]
    },
    {
     "name": "stderr",
     "output_type": "stream",
     "text": [
      "Training Epochs: 100%|██████████| 30/30 [02:06<00:00,  4.23s/it]\n",
      "Grid Search:  87%|████████▋ | 104/120 [3:26:20<32:31, 121.96s/it]"
     ]
    },
    {
     "name": "stdout",
     "output_type": "stream",
     "text": [
      "test Accuracy: 63.50%\n",
      "train Accuracy: 70.60%\n",
      "\n",
      "Evaluating combination 105/120: C=100, Degree=2, coef0=10\n"
     ]
    },
    {
     "name": "stderr",
     "output_type": "stream",
     "text": [
      "Training Epochs: 100%|██████████| 30/30 [01:59<00:00,  3.98s/it]\n",
      "Grid Search:  88%|████████▊ | 105/120 [3:28:20<30:18, 121.22s/it]"
     ]
    },
    {
     "name": "stdout",
     "output_type": "stream",
     "text": [
      "test Accuracy: 63.15%\n",
      "train Accuracy: 73.89%\n",
      "\n",
      "Evaluating combination 106/120: C=100, Degree=3, coef0=0\n"
     ]
    },
    {
     "name": "stderr",
     "output_type": "stream",
     "text": [
      "Training Epochs: 100%|██████████| 30/30 [02:05<00:00,  4.18s/it]\n",
      "Grid Search:  88%|████████▊ | 106/120 [3:30:25<28:35, 122.53s/it]"
     ]
    },
    {
     "name": "stdout",
     "output_type": "stream",
     "text": [
      "test Accuracy: 60.90%\n",
      "train Accuracy: 79.45%\n",
      "\n",
      "Evaluating combination 107/120: C=100, Degree=3, coef0=2.5\n"
     ]
    },
    {
     "name": "stderr",
     "output_type": "stream",
     "text": [
      "Training Epochs: 100%|██████████| 30/30 [02:04<00:00,  4.15s/it]\n",
      "Grid Search:  89%|████████▉ | 107/120 [3:32:30<26:42, 123.23s/it]"
     ]
    },
    {
     "name": "stdout",
     "output_type": "stream",
     "text": [
      "test Accuracy: 61.95%\n",
      "train Accuracy: 78.53%\n",
      "\n",
      "Evaluating combination 108/120: C=100, Degree=3, coef0=5\n"
     ]
    },
    {
     "name": "stderr",
     "output_type": "stream",
     "text": [
      "Training Epochs: 100%|██████████| 30/30 [01:57<00:00,  3.91s/it]\n",
      "Grid Search:  90%|█████████ | 108/120 [3:34:28<24:18, 121.56s/it]"
     ]
    },
    {
     "name": "stdout",
     "output_type": "stream",
     "text": [
      "test Accuracy: 60.25%\n",
      "train Accuracy: 79.50%\n",
      "\n",
      "Evaluating combination 109/120: C=100, Degree=3, coef0=7.5\n"
     ]
    },
    {
     "name": "stderr",
     "output_type": "stream",
     "text": [
      "Training Epochs: 100%|██████████| 30/30 [02:04<00:00,  4.15s/it]\n",
      "Grid Search:  91%|█████████ | 109/120 [3:36:33<22:27, 122.49s/it]"
     ]
    },
    {
     "name": "stdout",
     "output_type": "stream",
     "text": [
      "test Accuracy: 61.35%\n",
      "train Accuracy: 78.38%\n",
      "\n",
      "Evaluating combination 110/120: C=100, Degree=3, coef0=10\n"
     ]
    },
    {
     "name": "stderr",
     "output_type": "stream",
     "text": [
      "Training Epochs: 100%|██████████| 30/30 [02:03<00:00,  4.13s/it]\n",
      "Grid Search:  92%|█████████▏| 110/120 [3:38:37<20:29, 122.98s/it]"
     ]
    },
    {
     "name": "stdout",
     "output_type": "stream",
     "text": [
      "test Accuracy: 61.90%\n",
      "train Accuracy: 79.84%\n",
      "\n",
      "Evaluating combination 111/120: C=100, Degree=4, coef0=0\n"
     ]
    },
    {
     "name": "stderr",
     "output_type": "stream",
     "text": [
      "Training Epochs: 100%|██████████| 30/30 [01:56<00:00,  3.87s/it]\n",
      "Grid Search:  92%|█████████▎| 111/120 [3:40:33<18:08, 120.99s/it]"
     ]
    },
    {
     "name": "stdout",
     "output_type": "stream",
     "text": [
      "test Accuracy: 60.85%\n",
      "train Accuracy: 82.08%\n",
      "\n",
      "Evaluating combination 112/120: C=100, Degree=4, coef0=2.5\n"
     ]
    },
    {
     "name": "stderr",
     "output_type": "stream",
     "text": [
      "Training Epochs: 100%|██████████| 30/30 [01:57<00:00,  3.91s/it]\n",
      "Grid Search:  93%|█████████▎| 112/120 [3:42:31<15:59, 119.95s/it]"
     ]
    },
    {
     "name": "stdout",
     "output_type": "stream",
     "text": [
      "test Accuracy: 60.70%\n",
      "train Accuracy: 80.53%\n",
      "\n",
      "Evaluating combination 113/120: C=100, Degree=4, coef0=5\n"
     ]
    },
    {
     "name": "stderr",
     "output_type": "stream",
     "text": [
      "Training Epochs: 100%|██████████| 30/30 [01:56<00:00,  3.87s/it]\n",
      "Grid Search:  94%|█████████▍| 113/120 [3:44:27<13:52, 118.91s/it]"
     ]
    },
    {
     "name": "stdout",
     "output_type": "stream",
     "text": [
      "test Accuracy: 62.55%\n",
      "train Accuracy: 82.34%\n",
      "\n",
      "Evaluating combination 114/120: C=100, Degree=4, coef0=7.5\n"
     ]
    },
    {
     "name": "stderr",
     "output_type": "stream",
     "text": [
      "Training Epochs: 100%|██████████| 30/30 [01:56<00:00,  3.88s/it]\n",
      "Grid Search:  95%|█████████▌| 114/120 [3:46:24<11:49, 118.20s/it]"
     ]
    },
    {
     "name": "stdout",
     "output_type": "stream",
     "text": [
      "test Accuracy: 61.15%\n",
      "train Accuracy: 82.30%\n",
      "\n",
      "Evaluating combination 115/120: C=100, Degree=4, coef0=10\n"
     ]
    },
    {
     "name": "stderr",
     "output_type": "stream",
     "text": [
      "Training Epochs: 100%|██████████| 30/30 [01:55<00:00,  3.85s/it]\n",
      "Grid Search:  96%|█████████▌| 115/120 [3:48:19<09:47, 117.47s/it]"
     ]
    },
    {
     "name": "stdout",
     "output_type": "stream",
     "text": [
      "test Accuracy: 61.50%\n",
      "train Accuracy: 82.80%\n",
      "\n",
      "Evaluating combination 116/120: C=100, Degree=5, coef0=0\n"
     ]
    },
    {
     "name": "stderr",
     "output_type": "stream",
     "text": [
      "Training Epochs: 100%|██████████| 30/30 [01:57<00:00,  3.91s/it]\n",
      "Grid Search:  97%|█████████▋| 116/120 [3:50:17<07:50, 117.51s/it]"
     ]
    },
    {
     "name": "stdout",
     "output_type": "stream",
     "text": [
      "test Accuracy: 59.60%\n",
      "train Accuracy: 81.42%\n",
      "\n",
      "Evaluating combination 117/120: C=100, Degree=5, coef0=2.5\n"
     ]
    },
    {
     "name": "stderr",
     "output_type": "stream",
     "text": [
      "Training Epochs: 100%|██████████| 30/30 [01:56<00:00,  3.88s/it]\n",
      "Grid Search:  98%|█████████▊| 117/120 [3:52:14<05:51, 117.24s/it]"
     ]
    },
    {
     "name": "stdout",
     "output_type": "stream",
     "text": [
      "test Accuracy: 58.05%\n",
      "train Accuracy: 81.56%\n",
      "\n",
      "Evaluating combination 118/120: C=100, Degree=5, coef0=5\n"
     ]
    },
    {
     "name": "stderr",
     "output_type": "stream",
     "text": [
      "Training Epochs: 100%|██████████| 30/30 [01:56<00:00,  3.89s/it]\n",
      "Grid Search:  98%|█████████▊| 118/120 [3:54:10<03:54, 117.14s/it]"
     ]
    },
    {
     "name": "stdout",
     "output_type": "stream",
     "text": [
      "test Accuracy: 58.95%\n",
      "train Accuracy: 81.66%\n",
      "\n",
      "Evaluating combination 119/120: C=100, Degree=5, coef0=7.5\n"
     ]
    },
    {
     "name": "stderr",
     "output_type": "stream",
     "text": [
      "Training Epochs: 100%|██████████| 30/30 [01:55<00:00,  3.84s/it]\n",
      "Grid Search:  99%|█████████▉| 119/120 [3:56:06<01:56, 116.61s/it]"
     ]
    },
    {
     "name": "stdout",
     "output_type": "stream",
     "text": [
      "test Accuracy: 59.40%\n",
      "train Accuracy: 83.62%\n",
      "\n",
      "Evaluating combination 120/120: C=100, Degree=5, coef0=10\n"
     ]
    },
    {
     "name": "stderr",
     "output_type": "stream",
     "text": [
      "Training Epochs: 100%|██████████| 30/30 [01:56<00:00,  3.88s/it]\n",
      "Grid Search: 100%|██████████| 120/120 [3:58:02<00:00, 119.02s/it]"
     ]
    },
    {
     "name": "stdout",
     "output_type": "stream",
     "text": [
      "test Accuracy: 59.20%\n",
      "train Accuracy: 82.20%\n"
     ]
    },
    {
     "name": "stderr",
     "output_type": "stream",
     "text": [
      "\n"
     ]
    }
   ],
   "source": [
    "# Initialize a list to store the results\n",
    "results = []\n",
    "\n",
    "# Total number of combinations\n",
    "total_combinations = len(hyperparameter_grid)\n",
    "\n",
    "# Iterate over each hyperparameter combination\n",
    "for idx, (C, degree, coef0) in enumerate(tqdm(hyperparameter_grid, desc=\"Grid Search\")):\n",
    "    print(f\"\\nEvaluating combination {idx+1}/{total_combinations}: C={C}, Degree={degree}, coef0={coef0}\")\n",
    "    \n",
    "    # Initialize the DualSVMGradientDescent model with current hyperparameters\n",
    "    svm = GradientSVM(\n",
    "        C=C,\n",
    "        epochs=30,\n",
    "        degree=degree,\n",
    "        coef0=coef0\n",
    "    )\n",
    "    \n",
    "    # Train the model on the training subset\n",
    "    train_accuracies, _, _ = svm.fit(\n",
    "        X=x_train,\n",
    "        y=y_train,\n",
    "        x_test=x_test,\n",
    "        y_test=y_test,\n",
    "        min_lr=0.0005,  \n",
    "        max_lr=0.001,\n",
    "        ramp_up_epochs=15\n",
    "    )\n",
    "    \n",
    "    # Make predictions on the validation set\n",
    "    y_pred_test = svm.predict(x_test)\n",
    "    y_pred_train = svm.predict(x_train)\n",
    "\n",
    "    # Convert predictions and labels to CPU (NumPy) arrays for evaluation\n",
    "    y_pred_val_cpu = cp.asnumpy(y_pred_test)\n",
    "    y_val_cpu = cp.asnumpy(y_test)\n",
    "\n",
    "    y_pred_train_cpu = cp.asnumpy(y_pred_train)\n",
    "    y_train_cpu = cp.asnumpy(y_train)\n",
    "    \n",
    "    # Calculate validation accuracy\n",
    "    val_accuracy_test = np.mean(y_pred_val_cpu == y_val_cpu)\n",
    "    val_accuracy_train = np.mean(y_pred_train_cpu == y_train_cpu )\n",
    "\n",
    "    \n",
    "    print(f\"test Accuracy: {val_accuracy_test * 100:.2f}%\")\n",
    "    print(f\"train Accuracy: {val_accuracy_train * 100:.2f}%\")\n",
    "    \n",
    "    # Append the results\n",
    "    results.append({\n",
    "        'C': C,\n",
    "        'Degree': degree,\n",
    "        'coef0': coef0,\n",
    "        'Test Accuracy': val_accuracy_test,\n",
    "        'Train Accuracy': val_accuracy_train\n",
    "    })\n"
   ]
  },
  {
   "cell_type": "code",
   "execution_count": 11,
   "metadata": {},
   "outputs": [
    {
     "name": "stdout",
     "output_type": "stream",
     "text": [
      "\n",
      "Top 5 Hyperparameter Combinations:\n",
      "         C  Degree  coef0  Test Accuracy  Train Accuracy\n",
      "0   10.000       2    7.5         0.6425          0.7349\n",
      "1    0.001       2    5.0         0.6370          0.7380\n",
      "2  100.000       2    7.5         0.6350          0.7060\n",
      "3    0.100       2    2.5         0.6340          0.7426\n",
      "4    1.000       2    5.0         0.6335          0.7371\n",
      "\n",
      "Best Hyperparameters:\n",
      "C=10.0, Degree=2, coef0=7.5\n"
     ]
    }
   ],
   "source": [
    "\n",
    "results_df = pd.DataFrame(results)\n",
    "\n",
    "# Sort the results by validation accuracy in descending order\n",
    "results_df_sorted = results_df.sort_values(by='Test Accuracy', ascending=False).reset_index(drop=True)\n",
    "\n",
    "# Display the top 5 hyperparameter combinations\n",
    "print(\"\\nTop 5 Hyperparameter Combinations:\")\n",
    "print(results_df_sorted.head(5))\n",
    "\n",
    "# Select the best hyperparameters \n",
    "best_params = results_df_sorted.iloc[0]\n",
    "best_C = best_params['C']\n",
    "best_degree = int(best_params['Degree'])\n",
    "best_coef0 = best_params['coef0']\n",
    "\n",
    "print(f\"\\nBest Hyperparameters:\\nC={best_C}, Degree={best_degree}, coef0={best_coef0}\")\n"
   ]
  },
  {
   "cell_type": "code",
   "execution_count": 12,
   "metadata": {},
   "outputs": [
    {
     "name": "stderr",
     "output_type": "stream",
     "text": [
      "Training Epochs: 100%|██████████| 30/30 [02:00<00:00,  4.03s/it]\n"
     ]
    }
   ],
   "source": [
    "final_svm = GradientSVM(\n",
    "    C=best_C,\n",
    "    epochs=30,\n",
    "    degree=best_degree,\n",
    "    coef0=best_coef0,               \n",
    ")\n",
    "final_train_accuracies,final_test_accuracies, _ = final_svm.fit(x_train ,y_train ,x_test ,y_test, min_lr=0.0005, max_lr=0.001, ramp_up_epochs=15) "
   ]
  },
  {
   "cell_type": "code",
   "execution_count": 13,
   "metadata": {},
   "outputs": [
    {
     "name": "stdout",
     "output_type": "stream",
     "text": [
      "Training Accuracy: 73.49%\n",
      "Test Accuracy: 64.25%\n"
     ]
    }
   ],
   "source": [
    "\n",
    "y_pred_train = final_svm.predict(x_train)\n",
    "y_pred_test = final_svm.predict(x_test)\n",
    "\n",
    "\n",
    "# Convert predictions and labels to CPU (NumPy) arrays for evaluation\n",
    "y_pred_train_cpu = cp.asnumpy(y_pred_train)\n",
    "y_pred_test_cpu = cp.asnumpy(y_pred_test)\n",
    "y_train_cpu = cp.asnumpy(y_train)\n",
    "y_test_cpu = cp.asnumpy(y_test)\n",
    "\n",
    "# Calculate accuracy\n",
    "train_accuracy = np.mean(y_pred_train_cpu == y_train_cpu)\n",
    "test_accuracy = np.mean(y_pred_test_cpu == y_test_cpu)\n",
    "\n",
    "print(f\"Training Accuracy: {train_accuracy * 100:.2f}%\")\n",
    "print(f\"Test Accuracy: {test_accuracy * 100:.2f}%\")\n"
   ]
  },
  {
   "cell_type": "code",
   "execution_count": 14,
   "metadata": {},
   "outputs": [
    {
     "data": {
      "image/png": "[encoded data removed]",
      "text/plain": [
       "<Figure size 1000x600 with 1 Axes>"
      ]
     },
     "metadata": {},
     "output_type": "display_data"
    }
   ],
   "source": [
    "train_accuracies_np = cp.asnumpy(cp.array(final_train_accuracies))\n",
    "test_accuracies_np = cp.asnumpy(cp.array(final_test_accuracies))\n",
    "\n",
    "epochs = range(1, len(train_accuracies_np) + 1)\n",
    "\n",
    "plt.figure(figsize=(10, 6))\n",
    "plt.plot(epochs, train_accuracies_np, label='Train Accuracy')\n",
    "plt.plot(epochs, test_accuracies_np, label='Test Accuracy')\n",
    "\n",
    "plt.xlabel('Epochs')\n",
    "plt.ylabel('Accuracy')\n",
    "plt.title('Training and Test Accuracies per Epoch')\n",
    "plt.legend(loc='lower right')\n",
    "plt.grid(True)\n",
    "plt.show()"
   ]
  }
 ],
 "metadata": {
  "kernelspec": {
   "display_name": "Python 3",
   "language": "python",
   "name": "python3"
  },
  "language_info": {
   "codemirror_mode": {
    "name": "ipython",
    "version": 3
   },
   "file_extension": ".py",
   "mimetype": "text/x-python",
   "name": "python",
   "nbconvert_exporter": "python",
   "pygments_lexer": "ipython3",
   "version": "3.10.0"
  }
 },
 "nbformat": 4,
 "nbformat_minor": 2
}
